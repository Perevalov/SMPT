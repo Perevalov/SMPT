{
 "cells": [
  {
   "cell_type": "markdown",
   "metadata": {},
   "source": [
    "# SMPT: Experimental Results"
   ]
  },
  {
   "cell_type": "markdown",
   "metadata": {},
   "source": [
    "In this notebook, we report on some experimental results obtained with SMPT, our prototype implementation of an SMT-based model-checker for Petri nets with reduction equations."
   ]
  },
  {
   "cell_type": "markdown",
   "metadata": {},
   "source": [
    "### Setup Analysis"
   ]
  },
  {
   "cell_type": "markdown",
   "metadata": {},
   "source": [
    "Import librairies"
   ]
  },
  {
   "cell_type": "code",
   "execution_count": null,
   "metadata": {},
   "outputs": [],
   "source": [
    "%matplotlib inline\n",
    "\n",
    "import matplotlib.pyplot as plt\n",
    "import matplotlib as mpl\n",
    "import numpy as np\n",
    "import pandas as pd\n",
    "import seaborn as sns\n",
    "\n",
    "from scipy import stats"
   ]
  },
  {
   "cell_type": "markdown",
   "metadata": {},
   "source": [
    "Path to data"
   ]
  },
  {
   "cell_type": "code",
   "execution_count": null,
   "metadata": {},
   "outputs": [],
   "source": [
    "path_data = 'OUTPUTS/merged/'"
   ]
  },
  {
   "cell_type": "markdown",
   "metadata": {},
   "source": [
    "Settings"
   ]
  },
  {
   "cell_type": "code",
   "execution_count": null,
   "metadata": {},
   "outputs": [],
   "source": [
    "TIMEOUT = 120"
   ]
  },
  {
   "cell_type": "markdown",
   "metadata": {},
   "source": [
    "## Load Data"
   ]
  },
  {
   "cell_type": "markdown",
   "metadata": {},
   "source": [
    "Data frame corresponding to the reduction data."
   ]
  },
  {
   "cell_type": "code",
   "execution_count": null,
   "metadata": {},
   "outputs": [],
   "source": [
    "# Read 'reduction.csv'\n",
    "df_reduction = pd.read_csv(path_data + 'reduction.csv')\n",
    "df_reduction"
   ]
  },
  {
   "cell_type": "markdown",
   "metadata": {},
   "source": [
    "Data frame corresponding to the ReachabilityCardinality properties."
   ]
  },
  {
   "cell_type": "code",
   "execution_count": null,
   "metadata": {},
   "outputs": [],
   "source": [
    "# Read 'RC.csv'\n",
    "df_RC = pd.read_csv(path_data + 'RC.csv')\n",
    "df_RC"
   ]
  },
  {
   "cell_type": "markdown",
   "metadata": {},
   "source": [
    "Data frame corresponding to the ReachabilityFireability properties."
   ]
  },
  {
   "cell_type": "code",
   "execution_count": null,
   "metadata": {},
   "outputs": [],
   "source": [
    "# Read 'RF.csv'\n",
    "df_RF = pd.read_csv(path_data + 'RF.csv')\n",
    "df_RF"
   ]
  },
  {
   "cell_type": "markdown",
   "metadata": {},
   "source": [
    "Data frame corresponding to the ReachabilityDeadlock properties."
   ]
  },
  {
   "cell_type": "code",
   "execution_count": null,
   "metadata": {},
   "outputs": [],
   "source": [
    "# Read 'RD.csv'\n",
    "df_RD = pd.read_csv(path_data + 'RD.csv')\n",
    "df_RD"
   ]
  },
  {
   "cell_type": "markdown",
   "metadata": {},
   "source": [
    "Concatenate properties data frames into one. "
   ]
  },
  {
   "cell_type": "code",
   "execution_count": null,
   "metadata": {},
   "outputs": [],
   "source": [
    "# Concatenate 'ReachabilityCardinality', ''ReachabilityFireability' and 'ReachabilityDeadlock' \n",
    "df_properties = pd.concat([df_RC, df_RF, df_RD])\n",
    "\n",
    "# Convert correctness to str\n",
    "df_properties = df_properties.astype({'CORRECTNESS_WITH_REDUCTION': 'str', 'CORRECTNESS_WITHOUT_REDUCTION': 'str'})\n",
    "df_properties"
   ]
  },
  {
   "cell_type": "markdown",
   "metadata": {},
   "source": [
    "## Tool Confidence rate"
   ]
  },
  {
   "cell_type": "markdown",
   "metadata": {},
   "source": [
    "### Reliability"
   ]
  },
  {
   "cell_type": "markdown",
   "metadata": {},
   "source": [
    "Reliability with reduction."
   ]
  },
  {
   "cell_type": "code",
   "execution_count": null,
   "metadata": {},
   "outputs": [],
   "source": [
    "reliability_with_reduction = df_properties.query('CORRECTNESS_WITH_REDUCTION == \"False\"').shape[0] / df_properties.shape[0] * 100\n",
    "reliability_with_reduction"
   ]
  },
  {
   "cell_type": "markdown",
   "metadata": {},
   "source": [
    "Reliability without reduction."
   ]
  },
  {
   "cell_type": "code",
   "execution_count": null,
   "metadata": {},
   "outputs": [],
   "source": [
    "reliability_without_reduction = df_properties.query('CORRECTNESS_WITHOUT_REDUCTION == \"False\"').shape[0] / df_properties.shape[0] * 100\n",
    "reliability_without_reduction"
   ]
  },
  {
   "cell_type": "markdown",
   "metadata": {},
   "source": [
    "### Correct Values"
   ]
  },
  {
   "cell_type": "markdown",
   "metadata": {},
   "source": [
    "Correct values with reduction."
   ]
  },
  {
   "cell_type": "code",
   "execution_count": null,
   "metadata": {},
   "outputs": [],
   "source": [
    "correct_values_with_reduction = df_properties.query('CORRECTNESS_WITH_REDUCTION == \"True\"').shape[0]\n",
    "correct_values_with_reduction"
   ]
  },
  {
   "cell_type": "markdown",
   "metadata": {},
   "source": [
    "Correct values without reduction."
   ]
  },
  {
   "cell_type": "code",
   "execution_count": null,
   "metadata": {},
   "outputs": [],
   "source": [
    "correct_values_without_reduction = df_properties.query('CORRECTNESS_WITHOUT_REDUCTION == \"True\"').shape[0]\n",
    "correct_values_without_reduction"
   ]
  },
  {
   "cell_type": "markdown",
   "metadata": {},
   "source": [
    "### Summary Table"
   ]
  },
  {
   "cell_type": "code",
   "execution_count": null,
   "metadata": {},
   "outputs": [],
   "source": [
    "summary = {'Reliability': [reliability_with_reduction, reliability_without_reduction], 'Correct Values': [correct_values_with_reduction, correct_values_without_reduction]}\n",
    "pd.DataFrame(data=summary, index=['With reduction', 'Without reduction'])"
   ]
  },
  {
   "cell_type": "markdown",
   "metadata": {},
   "source": [
    "## Analysis"
   ]
  },
  {
   "cell_type": "markdown",
   "metadata": {},
   "source": [
    "Performance evalutation of the *polyhedral abstraction* approach."
   ]
  },
  {
   "cell_type": "markdown",
   "metadata": {},
   "source": [
    "### Reduction Ratio "
   ]
  },
  {
   "cell_type": "markdown",
   "metadata": {},
   "source": [
    "Reduction ratio among instances."
   ]
  },
  {
   "cell_type": "code",
   "execution_count": null,
   "metadata": {},
   "outputs": [],
   "source": [
    "# Count instances with same reduction ratio\n",
    "ratio_frequency = df_reduction['RATIO'].value_counts().sort_index(ascending=False)\n",
    "\n",
    "# Cumulative data frame\n",
    "df_ratio_frequency = pd.DataFrame({'INSTANCES': ratio_frequency.values}).cumsum()\n",
    "df_ratio_frequency['RATIO'] = ratio_frequency.index\n",
    "\n",
    "# Add row '0'\n",
    "df_first_row = pd.DataFrame([{'INSTANCES': 1, 'RATIO': df_ratio_frequency['RATIO'][0]}])\n",
    "df_ratio_frequency = pd.concat([df_first_row, df_ratio_frequency])\n",
    "\n",
    "# Draw instances reduction ratio\n",
    "df_ratio_frequency.plot.area(x='INSTANCES', ylim=(0,100), color='cornflowerblue', figsize=(13,3), legend='')\n",
    "plt.xlabel('Number of instances', fontsize=13)\n",
    "plt.ylabel('Reduction ratio (%)', fontsize=13)\n",
    "\n",
    "plt.savefig('reduction.png', bbox_inches = 'tight')\n",
    "\n",
    "plt.show()"
   ]
  },
  {
   "cell_type": "markdown",
   "metadata": {},
   "source": [
    "### General Performance Overview"
   ]
  },
  {
   "cell_type": "code",
   "execution_count": null,
   "metadata": {},
   "outputs": [],
   "source": [
    "# Get properties with reduction ratio\n",
    "df_properties_with_ratio = df_properties.join(df_reduction.set_index('INSTANCE'), on='INSTANCE')\n",
    "\n",
    "# Display mean reduction time\n",
    "print('Mean reduction time: ', df_properties_with_ratio['TIME'].mean())\n",
    "\n",
    "# Display monotonic properties rate\n",
    "print('Monotonic properties rate:', df_properties_with_ratio.query('MONOTONIC == True').shape[0] / df_properties_with_ratio.shape[0] * 100)"
   ]
  },
  {
   "cell_type": "code",
   "execution_count": null,
   "metadata": {},
   "outputs": [],
   "source": [
    "def information_per_reduction_range(ratio_min, ratio_max):\n",
    "    \"\"\" Return information for a given reduction range.\n",
    "    \"\"\"\n",
    "    df = df_properties_with_ratio.query('RATIO >= {} and RATIO <= {}'.format(ratio_min, ratio_max))\n",
    "    \n",
    "    reduction_range = '{}-{}%'.format(ratio_min, ratio_max)\n",
    "    \n",
    "    number_instances = df[['INSTANCE']].drop_duplicates().shape[0]\n",
    "    \n",
    "    number_properties = df.shape[0]\n",
    "    number_monotonic_properties = df.query('MONOTONIC == True').shape[0]\n",
    "    \n",
    "    bmc_with_reduction = df.query('METHOD_WITH_REDUCTION == \"BMC\"').shape[0]\n",
    "    ic3_with_reduction = df.query('METHOD_WITH_REDUCTION == \"IC3\"').shape[0]\n",
    "    total_with_reduction = bmc_with_reduction + ic3_with_reduction\n",
    "    \n",
    "    bmc_without_reduction = df.query('METHOD_WITHOUT_REDUCTION == \"BMC\"').shape[0]\n",
    "    ic3_without_reduction = df.query('METHOD_WITHOUT_REDUCTION == \"IC3\"').shape[0]\n",
    "    total_without_reduction = bmc_without_reduction + ic3_without_reduction\n",
    "    \n",
    "    gain = (1 - total_without_reduction / total_with_reduction) * 100\n",
    "    \n",
    "    return [reduction_range, number_instances, number_properties, number_monotonic_properties, bmc_with_reduction, ic3_with_reduction, total_with_reduction, bmc_without_reduction, ic3_without_reduction, total_without_reduction, gain]"
   ]
  },
  {
   "cell_type": "markdown",
   "metadata": {},
   "source": [
    "Summary table."
   ]
  },
  {
   "cell_type": "code",
   "execution_count": null,
   "metadata": {},
   "outputs": [],
   "source": [
    "performance_overview = pd.DataFrame([information_per_reduction_range(ratio_min, ratio_max) for ratio_min, ratio_max in [[30, 100], [30, 70], [60, 99], [100,100]]], columns=['Reduction Ratio', 'Number of Instances', 'Number of Properties Examinated', 'Number of Monotonic Properties', 'BMC With Reduction', 'IC3 With Reduction', 'Total With Reduction', 'BMC Without Reduction', 'IC3 Without Reduction', 'Total Without Reduction', 'Gain (%)'])\n",
    "performance_overview.set_index('Reduction Ratio')"
   ]
  },
  {
   "cell_type": "markdown",
   "metadata": {},
   "source": [
    "### Property Computation Times: With VS Without Reduction"
   ]
  },
  {
   "cell_type": "markdown",
   "metadata": {},
   "source": [
    "Comparaison of the number of processed properties in a limited time between with and without reduction."
   ]
  },
  {
   "cell_type": "code",
   "execution_count": null,
   "metadata": {},
   "outputs": [],
   "source": [
    "def time_with_vs_without_reduction(ratio_min, ratio_max):\n",
    "    \"\"\" Plot property computation times with vs without reduction.\n",
    "    \"\"\"\n",
    "    # Get computed properties for a given reduction range (remove properties that timeout with and without reduction)\n",
    "    df = df_properties.join(df_reduction.set_index('INSTANCE'), on='INSTANCE').query('RATIO >= {} and RATIO <= {} and (TIME_WITH_REDUCTION == TIME_WITH_REDUCTION or TIME_WITHOUT_REDUCTION == TIME_WITHOUT_REDUCTION)'.format(ratio_min, ratio_max))\n",
    "\n",
    "    # Replace timeout NaN values by the timeout value\n",
    "    df.loc[df.TIME_WITH_REDUCTION != df.TIME_WITH_REDUCTION, 'TIME_WITH_REDUCTION'] = TIMEOUT\n",
    "    df.loc[df.TIME_WITHOUT_REDUCTION != df.TIME_WITHOUT_REDUCTION, 'TIME_WITHOUT_REDUCTION'] = TIMEOUT\n",
    "\n",
    "    # Get times without and with reduction \n",
    "    x = df['TIME_WITHOUT_REDUCTION'].to_numpy()\n",
    "    y = df['TIME_WITH_REDUCTION'].to_numpy()\n",
    "    \n",
    "    # Get density\n",
    "    xy = np.vstack([x, y])\n",
    "    z = stats.gaussian_kde(xy)(xy)\n",
    "  \n",
    "    # Sort by ascending density\n",
    "    idx = z.argsort()\n",
    "    x, y, z = x[idx], y[idx], z[idx]\n",
    "     \n",
    "    # Plot time with vs without reduction with log scale\n",
    "    plt.figure(figsize=(8,8))\n",
    "    ax = plt.gca()\n",
    "    plt.scatter(x=x, y=y, c=z, edgecolor='', marker='+', s=50, norm=mpl.colors.LogNorm(), cmap=plt.cm.Blues)  \n",
    "    plt.plot(np.linspace(0, TIMEOUT), np.linspace(0, TIMEOUT), color='black', linestyle='--', lw=2, scalex=False, scaley=False)\n",
    "    ax.set_xscale('log')\n",
    "    ax.set_yscale('log')\n",
    "    plt.xlabel('Computation time without reduction (s)')\n",
    "    plt.ylabel('Computation time with reduction (s)')\n",
    "    plt.savefig(\"time_{}_{}.png\".format(ratio_min, ratio_max), bbox_inches = 'tight')\n",
    "    plt.show()\n",
    "    \n",
    "    # Get computed properties with reduction that timeout without reduction and not\n",
    "    x = df.query('TIME_WITH_REDUCTION < {}'.format(TIMEOUT))['TIME_WITH_REDUCTION']\n",
    "    y = df.query('TIME_WITHOUT_REDUCTION == {} and TIME_WITH_REDUCTION < {}'.format(TIMEOUT, TIMEOUT))['TIME_WITH_REDUCTION']\n",
    "    \n",
    "    # Plot histogram\n",
    "    plt.figure(figsize=(8,8))\n",
    "    plt.hist(x, color='orange', label='All properties')\n",
    "    plt.hist(y, label='Properties that timeout without reduction')\n",
    "    plt.legend(loc='upper right')\n",
    "    plt.xlim([0, TIMEOUT])\n",
    "    plt.xlabel('Computation time with reduction (s)')\n",
    "    plt.ylabel('Number of properties')\n",
    "    plt.savefig(\"hist_{}_{}.png\".format(ratio_min, ratio_max), bbox_inches = 'tight')\n",
    "    plt.show()\n",
    "    \n",
    "    # Plot number of properties, number of computed properties with reduction and without reduction\n",
    "    plt.figure(figsize=(1,8))\n",
    "    plt.bar([0], [df_properties.join(df_reduction.set_index('INSTANCE'), on='INSTANCE').query('RATIO >= {} and RATIO <= {}'.format(ratio_min, ratio_max)).shape[0]], color='orange', label='All properties')\n",
    "    plt.bar([0], [df_properties.join(df_reduction.set_index('INSTANCE'), on='INSTANCE').query('RATIO >= {} and RATIO <= {} and TIME_WITH_REDUCTION < {}'.format(ratio_min, ratio_max, TIMEOUT)).shape[0]], label='Computed with reduction')\n",
    "    plt.bar([0], [df_properties.join(df_reduction.set_index('INSTANCE'), on='INSTANCE').query('RATIO >= {} and RATIO <= {} and TIME_WITHOUT_REDUCTION < {}'.format(ratio_min, ratio_max, TIMEOUT)).shape[0]], color='cyan', label='Computed without reduction')\n",
    "    plt.legend(loc='upper left')\n",
    "    ax = plt.gca()\n",
    "    ax.axes.xaxis.set_visible(False)\n",
    "    plt.xlim([0, 0.1])\n",
    "    plt.savefig(\"bar_{}_{}.png\".format(ratio_min, ratio_max), bbox_inches = 'tight')\n",
    "    plt.show()"
   ]
  },
  {
   "cell_type": "markdown",
   "metadata": {},
   "source": [
    "Reduction range: [30, 70]."
   ]
  },
  {
   "cell_type": "code",
   "execution_count": null,
   "metadata": {},
   "outputs": [],
   "source": [
    "time_with_vs_without_reduction(30, 70)"
   ]
  },
  {
   "cell_type": "markdown",
   "metadata": {},
   "source": [
    "Reduction range: [60, 100[."
   ]
  },
  {
   "cell_type": "code",
   "execution_count": null,
   "metadata": {},
   "outputs": [],
   "source": [
    "time_with_vs_without_reduction(60, 99)"
   ]
  },
  {
   "cell_type": "markdown",
   "metadata": {},
   "source": [
    "Reduction range: [100, 100]."
   ]
  },
  {
   "cell_type": "code",
   "execution_count": null,
   "metadata": {},
   "outputs": [],
   "source": [
    "time_with_vs_without_reduction(100, 100)"
   ]
  }
 ],
 "metadata": {
  "kernelspec": {
   "display_name": "Python 3",
   "language": "python",
   "name": "python3"
  },
  "language_info": {
   "codemirror_mode": {
    "name": "ipython",
    "version": 3
   },
   "file_extension": ".py",
   "mimetype": "text/x-python",
   "name": "python",
   "nbconvert_exporter": "python",
   "pygments_lexer": "ipython3",
   "version": "3.8.1"
  }
 },
 "nbformat": 4,
 "nbformat_minor": 4
}
