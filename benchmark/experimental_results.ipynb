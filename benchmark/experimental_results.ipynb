{
 "cells": [
  {
   "cell_type": "markdown",
   "metadata": {},
   "source": [
    "# SMPT: Experimental Results"
   ]
  },
  {
   "cell_type": "markdown",
   "metadata": {},
   "source": [
    "In this notebook, we report on some experimental results obtained with SMPT, our prototype implementation of an SMT-based model-checker with reduction equations."
   ]
  },
  {
   "cell_type": "markdown",
   "metadata": {},
   "source": [
    "### Setup Analysis"
   ]
  },
  {
   "cell_type": "markdown",
   "metadata": {},
   "source": [
    "Import librairies"
   ]
  },
  {
   "cell_type": "code",
   "execution_count": 1,
   "metadata": {},
   "outputs": [],
   "source": [
    "%matplotlib inline\n",
    "\n",
    "import matplotlib.pyplot as plt\n",
    "import numpy as np\n",
    "import pandas as pd"
   ]
  },
  {
   "cell_type": "markdown",
   "metadata": {},
   "source": [
    "Path to data"
   ]
  },
  {
   "cell_type": "code",
   "execution_count": 2,
   "metadata": {},
   "outputs": [],
   "source": [
    "path_data = 'data/merged/'"
   ]
  },
  {
   "cell_type": "markdown",
   "metadata": {},
   "source": [
    "Settings"
   ]
  },
  {
   "cell_type": "code",
   "execution_count": 3,
   "metadata": {},
   "outputs": [],
   "source": [
    "TIMEOUT = 60\n",
    "FIGSIZE = (15,5)"
   ]
  },
  {
   "cell_type": "markdown",
   "metadata": {},
   "source": [
    "## Load Data"
   ]
  },
  {
   "cell_type": "markdown",
   "metadata": {},
   "source": [
    "Data frame corresponding to the reduction data."
   ]
  },
  {
   "cell_type": "code",
   "execution_count": 4,
   "metadata": {},
   "outputs": [
    {
     "data": {
      "text/html": [
       "<div>\n",
       "<style scoped>\n",
       "    .dataframe tbody tr th:only-of-type {\n",
       "        vertical-align: middle;\n",
       "    }\n",
       "\n",
       "    .dataframe tbody tr th {\n",
       "        vertical-align: top;\n",
       "    }\n",
       "\n",
       "    .dataframe thead th {\n",
       "        text-align: right;\n",
       "    }\n",
       "</style>\n",
       "<table border=\"1\" class=\"dataframe\">\n",
       "  <thead>\n",
       "    <tr style=\"text-align: right;\">\n",
       "      <th></th>\n",
       "      <th>MODEL</th>\n",
       "      <th>TIME</th>\n",
       "      <th>RATIO</th>\n",
       "      <th>ANALYSIS</th>\n",
       "    </tr>\n",
       "  </thead>\n",
       "  <tbody>\n",
       "    <tr>\n",
       "      <th>0</th>\n",
       "      <td>AirplaneLD-PT-0010</td>\n",
       "      <td>0.353537</td>\n",
       "      <td>88</td>\n",
       "      <td>False</td>\n",
       "    </tr>\n",
       "    <tr>\n",
       "      <th>1</th>\n",
       "      <td>AirplaneLD-PT-0020</td>\n",
       "      <td>0.181456</td>\n",
       "      <td>93</td>\n",
       "      <td>False</td>\n",
       "    </tr>\n",
       "    <tr>\n",
       "      <th>2</th>\n",
       "      <td>AirplaneLD-PT-0050</td>\n",
       "      <td>0.220841</td>\n",
       "      <td>97</td>\n",
       "      <td>False</td>\n",
       "    </tr>\n",
       "    <tr>\n",
       "      <th>3</th>\n",
       "      <td>AirplaneLD-PT-0100</td>\n",
       "      <td>0.241316</td>\n",
       "      <td>98</td>\n",
       "      <td>False</td>\n",
       "    </tr>\n",
       "    <tr>\n",
       "      <th>4</th>\n",
       "      <td>AirplaneLD-PT-0200</td>\n",
       "      <td>0.399222</td>\n",
       "      <td>99</td>\n",
       "      <td>False</td>\n",
       "    </tr>\n",
       "    <tr>\n",
       "      <th>...</th>\n",
       "      <td>...</td>\n",
       "      <td>...</td>\n",
       "      <td>...</td>\n",
       "      <td>...</td>\n",
       "    </tr>\n",
       "    <tr>\n",
       "      <th>1003</th>\n",
       "      <td>ViralEpidemic-PT-S08D1C2A02</td>\n",
       "      <td>0.192629</td>\n",
       "      <td>9</td>\n",
       "      <td>False</td>\n",
       "    </tr>\n",
       "    <tr>\n",
       "      <th>1004</th>\n",
       "      <td>ViralEpidemic-PT-S08D1C2A04</td>\n",
       "      <td>869.053407</td>\n",
       "      <td>9</td>\n",
       "      <td>False</td>\n",
       "    </tr>\n",
       "    <tr>\n",
       "      <th>1005</th>\n",
       "      <td>ViralEpidemic-PT-S16D2C4A01</td>\n",
       "      <td>0.383970</td>\n",
       "      <td>5</td>\n",
       "      <td>False</td>\n",
       "    </tr>\n",
       "    <tr>\n",
       "      <th>1006</th>\n",
       "      <td>ViralEpidemic-PT-S16D2C4A02</td>\n",
       "      <td>8.478698</td>\n",
       "      <td>5</td>\n",
       "      <td>False</td>\n",
       "    </tr>\n",
       "    <tr>\n",
       "      <th>1007</th>\n",
       "      <td>ViralEpidemic-PT-S16D2C4A03</td>\n",
       "      <td>2450.980323</td>\n",
       "      <td>5</td>\n",
       "      <td>False</td>\n",
       "    </tr>\n",
       "  </tbody>\n",
       "</table>\n",
       "<p>1008 rows × 4 columns</p>\n",
       "</div>"
      ],
      "text/plain": [
       "                            MODEL         TIME  RATIO  ANALYSIS\n",
       "0              AirplaneLD-PT-0010     0.353537     88     False\n",
       "1              AirplaneLD-PT-0020     0.181456     93     False\n",
       "2              AirplaneLD-PT-0050     0.220841     97     False\n",
       "3              AirplaneLD-PT-0100     0.241316     98     False\n",
       "4              AirplaneLD-PT-0200     0.399222     99     False\n",
       "...                           ...          ...    ...       ...\n",
       "1003  ViralEpidemic-PT-S08D1C2A02     0.192629      9     False\n",
       "1004  ViralEpidemic-PT-S08D1C2A04   869.053407      9     False\n",
       "1005  ViralEpidemic-PT-S16D2C4A01     0.383970      5     False\n",
       "1006  ViralEpidemic-PT-S16D2C4A02     8.478698      5     False\n",
       "1007  ViralEpidemic-PT-S16D2C4A03  2450.980323      5     False\n",
       "\n",
       "[1008 rows x 4 columns]"
      ]
     },
     "execution_count": 4,
     "metadata": {},
     "output_type": "execute_result"
    }
   ],
   "source": [
    "# Read 'reduction.csv'\n",
    "df_reduction = pd.read_csv(path_data + 'reduction.csv')\n",
    "df_reduction"
   ]
  },
  {
   "cell_type": "markdown",
   "metadata": {},
   "source": [
    "Data frame corresponding to the ReachabilityCardinality properties."
   ]
  },
  {
   "cell_type": "code",
   "execution_count": 5,
   "metadata": {},
   "outputs": [
    {
     "data": {
      "text/html": [
       "<div>\n",
       "<style scoped>\n",
       "    .dataframe tbody tr th:only-of-type {\n",
       "        vertical-align: middle;\n",
       "    }\n",
       "\n",
       "    .dataframe tbody tr th {\n",
       "        vertical-align: top;\n",
       "    }\n",
       "\n",
       "    .dataframe thead th {\n",
       "        text-align: right;\n",
       "    }\n",
       "</style>\n",
       "<table border=\"1\" class=\"dataframe\">\n",
       "  <thead>\n",
       "    <tr style=\"text-align: right;\">\n",
       "      <th></th>\n",
       "      <th>MODEL</th>\n",
       "      <th>PROPERTY</th>\n",
       "      <th>MONOTONE</th>\n",
       "      <th>TIME_WITH_REDUCTION</th>\n",
       "      <th>METHOD_WITH_REDUCTION</th>\n",
       "      <th>CORRECTNESS_WITH_REDUCTION</th>\n",
       "      <th>TIME_WITHOUT_REDUCTION</th>\n",
       "      <th>METHOD_WITHOUT_REDUCTION</th>\n",
       "      <th>CORRECTNESS_WITHOUT_REDUCTION</th>\n",
       "    </tr>\n",
       "  </thead>\n",
       "  <tbody>\n",
       "    <tr>\n",
       "      <th>0</th>\n",
       "      <td>AirplaneLD-PT-0010</td>\n",
       "      <td>AirplaneLD-PT-0010-ReachabilityCardinality-00</td>\n",
       "      <td>False</td>\n",
       "      <td>NaN</td>\n",
       "      <td>None</td>\n",
       "      <td>None</td>\n",
       "      <td>NaN</td>\n",
       "      <td>None</td>\n",
       "      <td>None</td>\n",
       "    </tr>\n",
       "    <tr>\n",
       "      <th>1</th>\n",
       "      <td>AirplaneLD-PT-0010</td>\n",
       "      <td>AirplaneLD-PT-0010-ReachabilityCardinality-01</td>\n",
       "      <td>False</td>\n",
       "      <td>NaN</td>\n",
       "      <td>None</td>\n",
       "      <td>None</td>\n",
       "      <td>NaN</td>\n",
       "      <td>None</td>\n",
       "      <td>None</td>\n",
       "    </tr>\n",
       "    <tr>\n",
       "      <th>2</th>\n",
       "      <td>AirplaneLD-PT-0010</td>\n",
       "      <td>AirplaneLD-PT-0010-ReachabilityCardinality-02</td>\n",
       "      <td>False</td>\n",
       "      <td>NaN</td>\n",
       "      <td>None</td>\n",
       "      <td>None</td>\n",
       "      <td>NaN</td>\n",
       "      <td>None</td>\n",
       "      <td>None</td>\n",
       "    </tr>\n",
       "    <tr>\n",
       "      <th>3</th>\n",
       "      <td>AirplaneLD-PT-0010</td>\n",
       "      <td>AirplaneLD-PT-0010-ReachabilityCardinality-03</td>\n",
       "      <td>True</td>\n",
       "      <td>1.317632</td>\n",
       "      <td>IC3</td>\n",
       "      <td>True</td>\n",
       "      <td>NaN</td>\n",
       "      <td>None</td>\n",
       "      <td>None</td>\n",
       "    </tr>\n",
       "    <tr>\n",
       "      <th>4</th>\n",
       "      <td>AirplaneLD-PT-0010</td>\n",
       "      <td>AirplaneLD-PT-0010-ReachabilityCardinality-04</td>\n",
       "      <td>True</td>\n",
       "      <td>6.905457</td>\n",
       "      <td>IC3</td>\n",
       "      <td>True</td>\n",
       "      <td>NaN</td>\n",
       "      <td>None</td>\n",
       "      <td>None</td>\n",
       "    </tr>\n",
       "    <tr>\n",
       "      <th>...</th>\n",
       "      <td>...</td>\n",
       "      <td>...</td>\n",
       "      <td>...</td>\n",
       "      <td>...</td>\n",
       "      <td>...</td>\n",
       "      <td>...</td>\n",
       "      <td>...</td>\n",
       "      <td>...</td>\n",
       "      <td>...</td>\n",
       "    </tr>\n",
       "    <tr>\n",
       "      <th>91</th>\n",
       "      <td>AirplaneLD-PT-0500</td>\n",
       "      <td>AirplaneLD-PT-0500-ReachabilityCardinality-11</td>\n",
       "      <td>False</td>\n",
       "      <td>NaN</td>\n",
       "      <td>None</td>\n",
       "      <td>None</td>\n",
       "      <td>NaN</td>\n",
       "      <td>None</td>\n",
       "      <td>None</td>\n",
       "    </tr>\n",
       "    <tr>\n",
       "      <th>92</th>\n",
       "      <td>AirplaneLD-PT-0500</td>\n",
       "      <td>AirplaneLD-PT-0500-ReachabilityCardinality-12</td>\n",
       "      <td>True</td>\n",
       "      <td>13.048807</td>\n",
       "      <td>IC3</td>\n",
       "      <td>True</td>\n",
       "      <td>NaN</td>\n",
       "      <td>None</td>\n",
       "      <td>None</td>\n",
       "    </tr>\n",
       "    <tr>\n",
       "      <th>93</th>\n",
       "      <td>AirplaneLD-PT-0500</td>\n",
       "      <td>AirplaneLD-PT-0500-ReachabilityCardinality-13</td>\n",
       "      <td>False</td>\n",
       "      <td>NaN</td>\n",
       "      <td>None</td>\n",
       "      <td>None</td>\n",
       "      <td>NaN</td>\n",
       "      <td>None</td>\n",
       "      <td>None</td>\n",
       "    </tr>\n",
       "    <tr>\n",
       "      <th>94</th>\n",
       "      <td>AirplaneLD-PT-0500</td>\n",
       "      <td>AirplaneLD-PT-0500-ReachabilityCardinality-14</td>\n",
       "      <td>False</td>\n",
       "      <td>NaN</td>\n",
       "      <td>None</td>\n",
       "      <td>None</td>\n",
       "      <td>NaN</td>\n",
       "      <td>None</td>\n",
       "      <td>None</td>\n",
       "    </tr>\n",
       "    <tr>\n",
       "      <th>95</th>\n",
       "      <td>AirplaneLD-PT-0500</td>\n",
       "      <td>AirplaneLD-PT-0500-ReachabilityCardinality-15</td>\n",
       "      <td>True</td>\n",
       "      <td>16.238693</td>\n",
       "      <td>IC3</td>\n",
       "      <td>True</td>\n",
       "      <td>NaN</td>\n",
       "      <td>None</td>\n",
       "      <td>None</td>\n",
       "    </tr>\n",
       "  </tbody>\n",
       "</table>\n",
       "<p>96 rows × 9 columns</p>\n",
       "</div>"
      ],
      "text/plain": [
       "                 MODEL                                       PROPERTY  \\\n",
       "0   AirplaneLD-PT-0010  AirplaneLD-PT-0010-ReachabilityCardinality-00   \n",
       "1   AirplaneLD-PT-0010  AirplaneLD-PT-0010-ReachabilityCardinality-01   \n",
       "2   AirplaneLD-PT-0010  AirplaneLD-PT-0010-ReachabilityCardinality-02   \n",
       "3   AirplaneLD-PT-0010  AirplaneLD-PT-0010-ReachabilityCardinality-03   \n",
       "4   AirplaneLD-PT-0010  AirplaneLD-PT-0010-ReachabilityCardinality-04   \n",
       "..                 ...                                            ...   \n",
       "91  AirplaneLD-PT-0500  AirplaneLD-PT-0500-ReachabilityCardinality-11   \n",
       "92  AirplaneLD-PT-0500  AirplaneLD-PT-0500-ReachabilityCardinality-12   \n",
       "93  AirplaneLD-PT-0500  AirplaneLD-PT-0500-ReachabilityCardinality-13   \n",
       "94  AirplaneLD-PT-0500  AirplaneLD-PT-0500-ReachabilityCardinality-14   \n",
       "95  AirplaneLD-PT-0500  AirplaneLD-PT-0500-ReachabilityCardinality-15   \n",
       "\n",
       "    MONOTONE  TIME_WITH_REDUCTION METHOD_WITH_REDUCTION  \\\n",
       "0      False                  NaN                  None   \n",
       "1      False                  NaN                  None   \n",
       "2      False                  NaN                  None   \n",
       "3       True             1.317632                   IC3   \n",
       "4       True             6.905457                   IC3   \n",
       "..       ...                  ...                   ...   \n",
       "91     False                  NaN                  None   \n",
       "92      True            13.048807                   IC3   \n",
       "93     False                  NaN                  None   \n",
       "94     False                  NaN                  None   \n",
       "95      True            16.238693                   IC3   \n",
       "\n",
       "   CORRECTNESS_WITH_REDUCTION  TIME_WITHOUT_REDUCTION  \\\n",
       "0                        None                     NaN   \n",
       "1                        None                     NaN   \n",
       "2                        None                     NaN   \n",
       "3                        True                     NaN   \n",
       "4                        True                     NaN   \n",
       "..                        ...                     ...   \n",
       "91                       None                     NaN   \n",
       "92                       True                     NaN   \n",
       "93                       None                     NaN   \n",
       "94                       None                     NaN   \n",
       "95                       True                     NaN   \n",
       "\n",
       "   METHOD_WITHOUT_REDUCTION CORRECTNESS_WITHOUT_REDUCTION  \n",
       "0                      None                          None  \n",
       "1                      None                          None  \n",
       "2                      None                          None  \n",
       "3                      None                          None  \n",
       "4                      None                          None  \n",
       "..                      ...                           ...  \n",
       "91                     None                          None  \n",
       "92                     None                          None  \n",
       "93                     None                          None  \n",
       "94                     None                          None  \n",
       "95                     None                          None  \n",
       "\n",
       "[96 rows x 9 columns]"
      ]
     },
     "execution_count": 5,
     "metadata": {},
     "output_type": "execute_result"
    }
   ],
   "source": [
    "# Read 'ReachabilityCardinality.csv'\n",
    "df_RC = pd.read_csv(path_data + 'RC.csv')\n",
    "df_RC"
   ]
  },
  {
   "cell_type": "markdown",
   "metadata": {},
   "source": [
    "Data frame corresponding to the ReachabilityFireability properties."
   ]
  },
  {
   "cell_type": "code",
   "execution_count": 6,
   "metadata": {},
   "outputs": [
    {
     "data": {
      "text/html": [
       "<div>\n",
       "<style scoped>\n",
       "    .dataframe tbody tr th:only-of-type {\n",
       "        vertical-align: middle;\n",
       "    }\n",
       "\n",
       "    .dataframe tbody tr th {\n",
       "        vertical-align: top;\n",
       "    }\n",
       "\n",
       "    .dataframe thead th {\n",
       "        text-align: right;\n",
       "    }\n",
       "</style>\n",
       "<table border=\"1\" class=\"dataframe\">\n",
       "  <thead>\n",
       "    <tr style=\"text-align: right;\">\n",
       "      <th></th>\n",
       "      <th>MODEL</th>\n",
       "      <th>PROPERTY</th>\n",
       "      <th>MONOTONE</th>\n",
       "      <th>TIME_WITH_REDUCTION</th>\n",
       "      <th>METHOD_WITH_REDUCTION</th>\n",
       "      <th>CORRECTNESS_WITH_REDUCTION</th>\n",
       "      <th>TIME_WITHOUT_REDUCTION</th>\n",
       "      <th>METHOD_WITHOUT_REDUCTION</th>\n",
       "      <th>CORRECTNESS_WITHOUT_REDUCTION</th>\n",
       "    </tr>\n",
       "  </thead>\n",
       "  <tbody>\n",
       "    <tr>\n",
       "      <th>0</th>\n",
       "      <td>AirplaneLD-PT-0010</td>\n",
       "      <td>AirplaneLD-PT-0010-ReachabilityFireability-00</td>\n",
       "      <td>True</td>\n",
       "      <td>0.026019</td>\n",
       "      <td>BMC</td>\n",
       "      <td>True</td>\n",
       "      <td>15.349598</td>\n",
       "      <td>BMC</td>\n",
       "      <td>True</td>\n",
       "    </tr>\n",
       "    <tr>\n",
       "      <th>1</th>\n",
       "      <td>AirplaneLD-PT-0010</td>\n",
       "      <td>AirplaneLD-PT-0010-ReachabilityFireability-01</td>\n",
       "      <td>False</td>\n",
       "      <td>0.017523</td>\n",
       "      <td>BMC</td>\n",
       "      <td>True</td>\n",
       "      <td>3.111217</td>\n",
       "      <td>BMC</td>\n",
       "      <td>True</td>\n",
       "    </tr>\n",
       "    <tr>\n",
       "      <th>2</th>\n",
       "      <td>AirplaneLD-PT-0010</td>\n",
       "      <td>AirplaneLD-PT-0010-ReachabilityFireability-02</td>\n",
       "      <td>False</td>\n",
       "      <td>NaN</td>\n",
       "      <td>None</td>\n",
       "      <td>None</td>\n",
       "      <td>NaN</td>\n",
       "      <td>None</td>\n",
       "      <td>None</td>\n",
       "    </tr>\n",
       "    <tr>\n",
       "      <th>3</th>\n",
       "      <td>AirplaneLD-PT-0010</td>\n",
       "      <td>AirplaneLD-PT-0010-ReachabilityFireability-03</td>\n",
       "      <td>False</td>\n",
       "      <td>0.014600</td>\n",
       "      <td>BMC</td>\n",
       "      <td>True</td>\n",
       "      <td>0.170743</td>\n",
       "      <td>BMC</td>\n",
       "      <td>True</td>\n",
       "    </tr>\n",
       "    <tr>\n",
       "      <th>4</th>\n",
       "      <td>AirplaneLD-PT-0010</td>\n",
       "      <td>AirplaneLD-PT-0010-ReachabilityFireability-04</td>\n",
       "      <td>True</td>\n",
       "      <td>0.030978</td>\n",
       "      <td>BMC</td>\n",
       "      <td>True</td>\n",
       "      <td>0.539939</td>\n",
       "      <td>BMC</td>\n",
       "      <td>True</td>\n",
       "    </tr>\n",
       "    <tr>\n",
       "      <th>...</th>\n",
       "      <td>...</td>\n",
       "      <td>...</td>\n",
       "      <td>...</td>\n",
       "      <td>...</td>\n",
       "      <td>...</td>\n",
       "      <td>...</td>\n",
       "      <td>...</td>\n",
       "      <td>...</td>\n",
       "      <td>...</td>\n",
       "    </tr>\n",
       "    <tr>\n",
       "      <th>82</th>\n",
       "      <td>AirplaneLD-PT-0500</td>\n",
       "      <td>AirplaneLD-PT-0500-ReachabilityFireability-02</td>\n",
       "      <td>True</td>\n",
       "      <td>7.334224</td>\n",
       "      <td>BMC</td>\n",
       "      <td>True</td>\n",
       "      <td>NaN</td>\n",
       "      <td>None</td>\n",
       "      <td>None</td>\n",
       "    </tr>\n",
       "    <tr>\n",
       "      <th>83</th>\n",
       "      <td>AirplaneLD-PT-0500</td>\n",
       "      <td>AirplaneLD-PT-0500-ReachabilityFireability-03</td>\n",
       "      <td>False</td>\n",
       "      <td>0.976014</td>\n",
       "      <td>BMC</td>\n",
       "      <td>True</td>\n",
       "      <td>NaN</td>\n",
       "      <td>None</td>\n",
       "      <td>None</td>\n",
       "    </tr>\n",
       "    <tr>\n",
       "      <th>84</th>\n",
       "      <td>AirplaneLD-PT-0500</td>\n",
       "      <td>AirplaneLD-PT-0500-ReachabilityFireability-04</td>\n",
       "      <td>True</td>\n",
       "      <td>2.710290</td>\n",
       "      <td>BMC</td>\n",
       "      <td>True</td>\n",
       "      <td>NaN</td>\n",
       "      <td>None</td>\n",
       "      <td>None</td>\n",
       "    </tr>\n",
       "    <tr>\n",
       "      <th>85</th>\n",
       "      <td>AirplaneLD-PT-0500</td>\n",
       "      <td>AirplaneLD-PT-0500-ReachabilityFireability-05</td>\n",
       "      <td>False</td>\n",
       "      <td>NaN</td>\n",
       "      <td>None</td>\n",
       "      <td>None</td>\n",
       "      <td>NaN</td>\n",
       "      <td>None</td>\n",
       "      <td>None</td>\n",
       "    </tr>\n",
       "    <tr>\n",
       "      <th>86</th>\n",
       "      <td>AirplaneLD-PT-0500</td>\n",
       "      <td>AirplaneLD-PT-0500-ReachabilityFireability-06</td>\n",
       "      <td>False</td>\n",
       "      <td>0.999835</td>\n",
       "      <td>BMC</td>\n",
       "      <td>True</td>\n",
       "      <td>NaN</td>\n",
       "      <td>None</td>\n",
       "      <td>None</td>\n",
       "    </tr>\n",
       "  </tbody>\n",
       "</table>\n",
       "<p>87 rows × 9 columns</p>\n",
       "</div>"
      ],
      "text/plain": [
       "                 MODEL                                       PROPERTY  \\\n",
       "0   AirplaneLD-PT-0010  AirplaneLD-PT-0010-ReachabilityFireability-00   \n",
       "1   AirplaneLD-PT-0010  AirplaneLD-PT-0010-ReachabilityFireability-01   \n",
       "2   AirplaneLD-PT-0010  AirplaneLD-PT-0010-ReachabilityFireability-02   \n",
       "3   AirplaneLD-PT-0010  AirplaneLD-PT-0010-ReachabilityFireability-03   \n",
       "4   AirplaneLD-PT-0010  AirplaneLD-PT-0010-ReachabilityFireability-04   \n",
       "..                 ...                                            ...   \n",
       "82  AirplaneLD-PT-0500  AirplaneLD-PT-0500-ReachabilityFireability-02   \n",
       "83  AirplaneLD-PT-0500  AirplaneLD-PT-0500-ReachabilityFireability-03   \n",
       "84  AirplaneLD-PT-0500  AirplaneLD-PT-0500-ReachabilityFireability-04   \n",
       "85  AirplaneLD-PT-0500  AirplaneLD-PT-0500-ReachabilityFireability-05   \n",
       "86  AirplaneLD-PT-0500  AirplaneLD-PT-0500-ReachabilityFireability-06   \n",
       "\n",
       "    MONOTONE  TIME_WITH_REDUCTION METHOD_WITH_REDUCTION  \\\n",
       "0       True             0.026019                   BMC   \n",
       "1      False             0.017523                   BMC   \n",
       "2      False                  NaN                  None   \n",
       "3      False             0.014600                   BMC   \n",
       "4       True             0.030978                   BMC   \n",
       "..       ...                  ...                   ...   \n",
       "82      True             7.334224                   BMC   \n",
       "83     False             0.976014                   BMC   \n",
       "84      True             2.710290                   BMC   \n",
       "85     False                  NaN                  None   \n",
       "86     False             0.999835                   BMC   \n",
       "\n",
       "   CORRECTNESS_WITH_REDUCTION  TIME_WITHOUT_REDUCTION  \\\n",
       "0                        True               15.349598   \n",
       "1                        True                3.111217   \n",
       "2                        None                     NaN   \n",
       "3                        True                0.170743   \n",
       "4                        True                0.539939   \n",
       "..                        ...                     ...   \n",
       "82                       True                     NaN   \n",
       "83                       True                     NaN   \n",
       "84                       True                     NaN   \n",
       "85                       None                     NaN   \n",
       "86                       True                     NaN   \n",
       "\n",
       "   METHOD_WITHOUT_REDUCTION CORRECTNESS_WITHOUT_REDUCTION  \n",
       "0                       BMC                          True  \n",
       "1                       BMC                          True  \n",
       "2                      None                          None  \n",
       "3                       BMC                          True  \n",
       "4                       BMC                          True  \n",
       "..                      ...                           ...  \n",
       "82                     None                          None  \n",
       "83                     None                          None  \n",
       "84                     None                          None  \n",
       "85                     None                          None  \n",
       "86                     None                          None  \n",
       "\n",
       "[87 rows x 9 columns]"
      ]
     },
     "execution_count": 6,
     "metadata": {},
     "output_type": "execute_result"
    }
   ],
   "source": [
    "# Read 'ReachabilityFireability.csv'\n",
    "df_RF = pd.read_csv(path_data + 'RF.csv')\n",
    "df_RF"
   ]
  },
  {
   "cell_type": "markdown",
   "metadata": {},
   "source": [
    "Data frame corresponding to the ReachabilityDeadlock properties."
   ]
  },
  {
   "cell_type": "code",
   "execution_count": 7,
   "metadata": {},
   "outputs": [
    {
     "data": {
      "text/html": [
       "<div>\n",
       "<style scoped>\n",
       "    .dataframe tbody tr th:only-of-type {\n",
       "        vertical-align: middle;\n",
       "    }\n",
       "\n",
       "    .dataframe tbody tr th {\n",
       "        vertical-align: top;\n",
       "    }\n",
       "\n",
       "    .dataframe thead th {\n",
       "        text-align: right;\n",
       "    }\n",
       "</style>\n",
       "<table border=\"1\" class=\"dataframe\">\n",
       "  <thead>\n",
       "    <tr style=\"text-align: right;\">\n",
       "      <th></th>\n",
       "      <th>MODEL</th>\n",
       "      <th>PROPERTY</th>\n",
       "      <th>MONOTONE</th>\n",
       "      <th>TIME_WITH_REDUCTION</th>\n",
       "      <th>METHOD_WITH_REDUCTION</th>\n",
       "      <th>CORRECTNESS_WITH_REDUCTION</th>\n",
       "      <th>TIME_WITHOUT_REDUCTION</th>\n",
       "      <th>METHOD_WITHOUT_REDUCTION</th>\n",
       "      <th>CORRECTNESS_WITHOUT_REDUCTION</th>\n",
       "    </tr>\n",
       "  </thead>\n",
       "  <tbody>\n",
       "    <tr>\n",
       "      <th>0</th>\n",
       "      <td>AirplaneLD-PT-0010</td>\n",
       "      <td>ReachabilityDeadlock</td>\n",
       "      <td>False</td>\n",
       "      <td>0.021472</td>\n",
       "      <td>BMC</td>\n",
       "      <td>True</td>\n",
       "      <td>1.778207</td>\n",
       "      <td>BMC</td>\n",
       "      <td>True</td>\n",
       "    </tr>\n",
       "    <tr>\n",
       "      <th>1</th>\n",
       "      <td>AirplaneLD-PT-0020</td>\n",
       "      <td>ReachabilityDeadlock</td>\n",
       "      <td>False</td>\n",
       "      <td>0.032518</td>\n",
       "      <td>BMC</td>\n",
       "      <td>True</td>\n",
       "      <td>2.765876</td>\n",
       "      <td>BMC</td>\n",
       "      <td>True</td>\n",
       "    </tr>\n",
       "    <tr>\n",
       "      <th>2</th>\n",
       "      <td>AirplaneLD-PT-0050</td>\n",
       "      <td>ReachabilityDeadlock</td>\n",
       "      <td>False</td>\n",
       "      <td>0.059696</td>\n",
       "      <td>BMC</td>\n",
       "      <td>True</td>\n",
       "      <td>10.599967</td>\n",
       "      <td>BMC</td>\n",
       "      <td>True</td>\n",
       "    </tr>\n",
       "    <tr>\n",
       "      <th>3</th>\n",
       "      <td>AirplaneLD-PT-0100</td>\n",
       "      <td>ReachabilityDeadlock</td>\n",
       "      <td>False</td>\n",
       "      <td>0.121515</td>\n",
       "      <td>BMC</td>\n",
       "      <td>True</td>\n",
       "      <td>33.059684</td>\n",
       "      <td>BMC</td>\n",
       "      <td>True</td>\n",
       "    </tr>\n",
       "    <tr>\n",
       "      <th>4</th>\n",
       "      <td>AirplaneLD-PT-0200</td>\n",
       "      <td>ReachabilityDeadlock</td>\n",
       "      <td>False</td>\n",
       "      <td>0.303116</td>\n",
       "      <td>BMC</td>\n",
       "      <td>True</td>\n",
       "      <td>NaN</td>\n",
       "      <td>None</td>\n",
       "      <td>None</td>\n",
       "    </tr>\n",
       "  </tbody>\n",
       "</table>\n",
       "</div>"
      ],
      "text/plain": [
       "                MODEL              PROPERTY  MONOTONE  TIME_WITH_REDUCTION  \\\n",
       "0  AirplaneLD-PT-0010  ReachabilityDeadlock     False             0.021472   \n",
       "1  AirplaneLD-PT-0020  ReachabilityDeadlock     False             0.032518   \n",
       "2  AirplaneLD-PT-0050  ReachabilityDeadlock     False             0.059696   \n",
       "3  AirplaneLD-PT-0100  ReachabilityDeadlock     False             0.121515   \n",
       "4  AirplaneLD-PT-0200  ReachabilityDeadlock     False             0.303116   \n",
       "\n",
       "  METHOD_WITH_REDUCTION  CORRECTNESS_WITH_REDUCTION  TIME_WITHOUT_REDUCTION  \\\n",
       "0                   BMC                        True                1.778207   \n",
       "1                   BMC                        True                2.765876   \n",
       "2                   BMC                        True               10.599967   \n",
       "3                   BMC                        True               33.059684   \n",
       "4                   BMC                        True                     NaN   \n",
       "\n",
       "  METHOD_WITHOUT_REDUCTION CORRECTNESS_WITHOUT_REDUCTION  \n",
       "0                      BMC                          True  \n",
       "1                      BMC                          True  \n",
       "2                      BMC                          True  \n",
       "3                      BMC                          True  \n",
       "4                     None                          None  "
      ]
     },
     "execution_count": 7,
     "metadata": {},
     "output_type": "execute_result"
    }
   ],
   "source": [
    "# Read 'ReachabilityDeadlock.csv'\n",
    "df_RD = pd.read_csv(path_data + 'RD.csv')\n",
    "df_RD"
   ]
  },
  {
   "cell_type": "markdown",
   "metadata": {},
   "source": [
    "Concatenate properties data frames into one. "
   ]
  },
  {
   "cell_type": "code",
   "execution_count": 8,
   "metadata": {},
   "outputs": [
    {
     "data": {
      "text/html": [
       "<div>\n",
       "<style scoped>\n",
       "    .dataframe tbody tr th:only-of-type {\n",
       "        vertical-align: middle;\n",
       "    }\n",
       "\n",
       "    .dataframe tbody tr th {\n",
       "        vertical-align: top;\n",
       "    }\n",
       "\n",
       "    .dataframe thead th {\n",
       "        text-align: right;\n",
       "    }\n",
       "</style>\n",
       "<table border=\"1\" class=\"dataframe\">\n",
       "  <thead>\n",
       "    <tr style=\"text-align: right;\">\n",
       "      <th></th>\n",
       "      <th>MODEL</th>\n",
       "      <th>PROPERTY</th>\n",
       "      <th>MONOTONE</th>\n",
       "      <th>TIME_WITH_REDUCTION</th>\n",
       "      <th>METHOD_WITH_REDUCTION</th>\n",
       "      <th>CORRECTNESS_WITH_REDUCTION</th>\n",
       "      <th>TIME_WITHOUT_REDUCTION</th>\n",
       "      <th>METHOD_WITHOUT_REDUCTION</th>\n",
       "      <th>CORRECTNESS_WITHOUT_REDUCTION</th>\n",
       "    </tr>\n",
       "  </thead>\n",
       "  <tbody>\n",
       "    <tr>\n",
       "      <th>0</th>\n",
       "      <td>AirplaneLD-PT-0010</td>\n",
       "      <td>AirplaneLD-PT-0010-ReachabilityCardinality-00</td>\n",
       "      <td>False</td>\n",
       "      <td>NaN</td>\n",
       "      <td>None</td>\n",
       "      <td>None</td>\n",
       "      <td>NaN</td>\n",
       "      <td>None</td>\n",
       "      <td>None</td>\n",
       "    </tr>\n",
       "    <tr>\n",
       "      <th>1</th>\n",
       "      <td>AirplaneLD-PT-0010</td>\n",
       "      <td>AirplaneLD-PT-0010-ReachabilityCardinality-01</td>\n",
       "      <td>False</td>\n",
       "      <td>NaN</td>\n",
       "      <td>None</td>\n",
       "      <td>None</td>\n",
       "      <td>NaN</td>\n",
       "      <td>None</td>\n",
       "      <td>None</td>\n",
       "    </tr>\n",
       "    <tr>\n",
       "      <th>2</th>\n",
       "      <td>AirplaneLD-PT-0010</td>\n",
       "      <td>AirplaneLD-PT-0010-ReachabilityCardinality-02</td>\n",
       "      <td>False</td>\n",
       "      <td>NaN</td>\n",
       "      <td>None</td>\n",
       "      <td>None</td>\n",
       "      <td>NaN</td>\n",
       "      <td>None</td>\n",
       "      <td>None</td>\n",
       "    </tr>\n",
       "    <tr>\n",
       "      <th>3</th>\n",
       "      <td>AirplaneLD-PT-0010</td>\n",
       "      <td>AirplaneLD-PT-0010-ReachabilityCardinality-03</td>\n",
       "      <td>True</td>\n",
       "      <td>1.317632</td>\n",
       "      <td>IC3</td>\n",
       "      <td>True</td>\n",
       "      <td>NaN</td>\n",
       "      <td>None</td>\n",
       "      <td>None</td>\n",
       "    </tr>\n",
       "    <tr>\n",
       "      <th>4</th>\n",
       "      <td>AirplaneLD-PT-0010</td>\n",
       "      <td>AirplaneLD-PT-0010-ReachabilityCardinality-04</td>\n",
       "      <td>True</td>\n",
       "      <td>6.905457</td>\n",
       "      <td>IC3</td>\n",
       "      <td>True</td>\n",
       "      <td>NaN</td>\n",
       "      <td>None</td>\n",
       "      <td>None</td>\n",
       "    </tr>\n",
       "    <tr>\n",
       "      <th>...</th>\n",
       "      <td>...</td>\n",
       "      <td>...</td>\n",
       "      <td>...</td>\n",
       "      <td>...</td>\n",
       "      <td>...</td>\n",
       "      <td>...</td>\n",
       "      <td>...</td>\n",
       "      <td>...</td>\n",
       "      <td>...</td>\n",
       "    </tr>\n",
       "    <tr>\n",
       "      <th>0</th>\n",
       "      <td>AirplaneLD-PT-0010</td>\n",
       "      <td>ReachabilityDeadlock</td>\n",
       "      <td>False</td>\n",
       "      <td>0.021472</td>\n",
       "      <td>BMC</td>\n",
       "      <td>True</td>\n",
       "      <td>1.778207</td>\n",
       "      <td>BMC</td>\n",
       "      <td>True</td>\n",
       "    </tr>\n",
       "    <tr>\n",
       "      <th>1</th>\n",
       "      <td>AirplaneLD-PT-0020</td>\n",
       "      <td>ReachabilityDeadlock</td>\n",
       "      <td>False</td>\n",
       "      <td>0.032518</td>\n",
       "      <td>BMC</td>\n",
       "      <td>True</td>\n",
       "      <td>2.765876</td>\n",
       "      <td>BMC</td>\n",
       "      <td>True</td>\n",
       "    </tr>\n",
       "    <tr>\n",
       "      <th>2</th>\n",
       "      <td>AirplaneLD-PT-0050</td>\n",
       "      <td>ReachabilityDeadlock</td>\n",
       "      <td>False</td>\n",
       "      <td>0.059696</td>\n",
       "      <td>BMC</td>\n",
       "      <td>True</td>\n",
       "      <td>10.599967</td>\n",
       "      <td>BMC</td>\n",
       "      <td>True</td>\n",
       "    </tr>\n",
       "    <tr>\n",
       "      <th>3</th>\n",
       "      <td>AirplaneLD-PT-0100</td>\n",
       "      <td>ReachabilityDeadlock</td>\n",
       "      <td>False</td>\n",
       "      <td>0.121515</td>\n",
       "      <td>BMC</td>\n",
       "      <td>True</td>\n",
       "      <td>33.059684</td>\n",
       "      <td>BMC</td>\n",
       "      <td>True</td>\n",
       "    </tr>\n",
       "    <tr>\n",
       "      <th>4</th>\n",
       "      <td>AirplaneLD-PT-0200</td>\n",
       "      <td>ReachabilityDeadlock</td>\n",
       "      <td>False</td>\n",
       "      <td>0.303116</td>\n",
       "      <td>BMC</td>\n",
       "      <td>True</td>\n",
       "      <td>NaN</td>\n",
       "      <td>None</td>\n",
       "      <td>None</td>\n",
       "    </tr>\n",
       "  </tbody>\n",
       "</table>\n",
       "<p>188 rows × 9 columns</p>\n",
       "</div>"
      ],
      "text/plain": [
       "                 MODEL                                       PROPERTY  \\\n",
       "0   AirplaneLD-PT-0010  AirplaneLD-PT-0010-ReachabilityCardinality-00   \n",
       "1   AirplaneLD-PT-0010  AirplaneLD-PT-0010-ReachabilityCardinality-01   \n",
       "2   AirplaneLD-PT-0010  AirplaneLD-PT-0010-ReachabilityCardinality-02   \n",
       "3   AirplaneLD-PT-0010  AirplaneLD-PT-0010-ReachabilityCardinality-03   \n",
       "4   AirplaneLD-PT-0010  AirplaneLD-PT-0010-ReachabilityCardinality-04   \n",
       "..                 ...                                            ...   \n",
       "0   AirplaneLD-PT-0010                           ReachabilityDeadlock   \n",
       "1   AirplaneLD-PT-0020                           ReachabilityDeadlock   \n",
       "2   AirplaneLD-PT-0050                           ReachabilityDeadlock   \n",
       "3   AirplaneLD-PT-0100                           ReachabilityDeadlock   \n",
       "4   AirplaneLD-PT-0200                           ReachabilityDeadlock   \n",
       "\n",
       "    MONOTONE  TIME_WITH_REDUCTION METHOD_WITH_REDUCTION  \\\n",
       "0      False                  NaN                  None   \n",
       "1      False                  NaN                  None   \n",
       "2      False                  NaN                  None   \n",
       "3       True             1.317632                   IC3   \n",
       "4       True             6.905457                   IC3   \n",
       "..       ...                  ...                   ...   \n",
       "0      False             0.021472                   BMC   \n",
       "1      False             0.032518                   BMC   \n",
       "2      False             0.059696                   BMC   \n",
       "3      False             0.121515                   BMC   \n",
       "4      False             0.303116                   BMC   \n",
       "\n",
       "   CORRECTNESS_WITH_REDUCTION  TIME_WITHOUT_REDUCTION  \\\n",
       "0                        None                     NaN   \n",
       "1                        None                     NaN   \n",
       "2                        None                     NaN   \n",
       "3                        True                     NaN   \n",
       "4                        True                     NaN   \n",
       "..                        ...                     ...   \n",
       "0                        True                1.778207   \n",
       "1                        True                2.765876   \n",
       "2                        True               10.599967   \n",
       "3                        True               33.059684   \n",
       "4                        True                     NaN   \n",
       "\n",
       "   METHOD_WITHOUT_REDUCTION CORRECTNESS_WITHOUT_REDUCTION  \n",
       "0                      None                          None  \n",
       "1                      None                          None  \n",
       "2                      None                          None  \n",
       "3                      None                          None  \n",
       "4                      None                          None  \n",
       "..                      ...                           ...  \n",
       "0                       BMC                          True  \n",
       "1                       BMC                          True  \n",
       "2                       BMC                          True  \n",
       "3                       BMC                          True  \n",
       "4                      None                          None  \n",
       "\n",
       "[188 rows x 9 columns]"
      ]
     },
     "execution_count": 8,
     "metadata": {},
     "output_type": "execute_result"
    }
   ],
   "source": [
    "# Concatenate 'ReachabilityCardinality', ''ReachabilityFireability' and 'ReachabilityDeadlock' \n",
    "df_properties = pd.concat([df_RC, df_RF, df_RD])\n",
    "\n",
    "# Convert correctness to str\n",
    "df_properties = df_properties.astype({'CORRECTNESS_WITH_REDUCTION': 'str', 'CORRECTNESS_WITHOUT_REDUCTION': 'str'})\n",
    "\n",
    "df_properties"
   ]
  },
  {
   "cell_type": "markdown",
   "metadata": {},
   "source": [
    "## Tool Confidence rate"
   ]
  },
  {
   "cell_type": "markdown",
   "metadata": {},
   "source": [
    "### Reliability"
   ]
  },
  {
   "cell_type": "markdown",
   "metadata": {},
   "source": [
    "Reliability with reduction."
   ]
  },
  {
   "cell_type": "code",
   "execution_count": 9,
   "metadata": {},
   "outputs": [
    {
     "data": {
      "text/plain": [
       "0.0"
      ]
     },
     "execution_count": 9,
     "metadata": {},
     "output_type": "execute_result"
    }
   ],
   "source": [
    "reliability_with_reduction = df_properties.query('CORRECTNESS_WITH_REDUCTION == \"False\"').shape[0] / df_properties.shape[0] * 100\n",
    "reliability_with_reduction"
   ]
  },
  {
   "cell_type": "markdown",
   "metadata": {},
   "source": [
    "Reliability without reduction."
   ]
  },
  {
   "cell_type": "code",
   "execution_count": 10,
   "metadata": {},
   "outputs": [
    {
     "data": {
      "text/plain": [
       "0.0"
      ]
     },
     "execution_count": 10,
     "metadata": {},
     "output_type": "execute_result"
    }
   ],
   "source": [
    "reliability_without_reduction = df_properties.query('CORRECTNESS_WITHOUT_REDUCTION == \"False\"').shape[0] / df_properties.shape[0] * 100\n",
    "reliability_without_reduction"
   ]
  },
  {
   "cell_type": "markdown",
   "metadata": {},
   "source": [
    "### Correct Values"
   ]
  },
  {
   "cell_type": "markdown",
   "metadata": {},
   "source": [
    "Correct values with reduction."
   ]
  },
  {
   "cell_type": "code",
   "execution_count": 11,
   "metadata": {},
   "outputs": [
    {
     "data": {
      "text/plain": [
       "106"
      ]
     },
     "execution_count": 11,
     "metadata": {},
     "output_type": "execute_result"
    }
   ],
   "source": [
    "correct_values_with_reduction = df_properties.query('CORRECTNESS_WITH_REDUCTION == \"True\"').shape[0]\n",
    "correct_values_with_reduction"
   ]
  },
  {
   "cell_type": "markdown",
   "metadata": {},
   "source": [
    "Correct values without reduction."
   ]
  },
  {
   "cell_type": "code",
   "execution_count": 12,
   "metadata": {},
   "outputs": [
    {
     "data": {
      "text/plain": [
       "75"
      ]
     },
     "execution_count": 12,
     "metadata": {},
     "output_type": "execute_result"
    }
   ],
   "source": [
    "correct_values_without_reduction = df_properties.query('CORRECTNESS_WITHOUT_REDUCTION == \"True\"').shape[0]\n",
    "correct_values_without_reduction"
   ]
  },
  {
   "cell_type": "markdown",
   "metadata": {},
   "source": [
    "### Summary Table"
   ]
  },
  {
   "cell_type": "code",
   "execution_count": 13,
   "metadata": {},
   "outputs": [
    {
     "data": {
      "text/html": [
       "<div>\n",
       "<style scoped>\n",
       "    .dataframe tbody tr th:only-of-type {\n",
       "        vertical-align: middle;\n",
       "    }\n",
       "\n",
       "    .dataframe tbody tr th {\n",
       "        vertical-align: top;\n",
       "    }\n",
       "\n",
       "    .dataframe thead th {\n",
       "        text-align: right;\n",
       "    }\n",
       "</style>\n",
       "<table border=\"1\" class=\"dataframe\">\n",
       "  <thead>\n",
       "    <tr style=\"text-align: right;\">\n",
       "      <th></th>\n",
       "      <th>Reliability</th>\n",
       "      <th>Correct Values</th>\n",
       "    </tr>\n",
       "  </thead>\n",
       "  <tbody>\n",
       "    <tr>\n",
       "      <th>With reduction</th>\n",
       "      <td>0.0</td>\n",
       "      <td>106</td>\n",
       "    </tr>\n",
       "    <tr>\n",
       "      <th>Without reduction</th>\n",
       "      <td>0.0</td>\n",
       "      <td>75</td>\n",
       "    </tr>\n",
       "  </tbody>\n",
       "</table>\n",
       "</div>"
      ],
      "text/plain": [
       "                   Reliability  Correct Values\n",
       "With reduction             0.0             106\n",
       "Without reduction          0.0              75"
      ]
     },
     "execution_count": 13,
     "metadata": {},
     "output_type": "execute_result"
    }
   ],
   "source": [
    "summary = {'Reliability': [reliability_with_reduction, reliability_without_reduction], 'Correct Values': [correct_values_with_reduction, correct_values_without_reduction]}\n",
    "pd.DataFrame(data=summary, index=['With reduction', 'Without reduction'])"
   ]
  },
  {
   "cell_type": "markdown",
   "metadata": {},
   "source": [
    "## Analysis"
   ]
  },
  {
   "cell_type": "markdown",
   "metadata": {},
   "source": [
    "Analysis of the approach."
   ]
  },
  {
   "cell_type": "markdown",
   "metadata": {},
   "source": [
    "### Reduction Ratio "
   ]
  },
  {
   "cell_type": "markdown",
   "metadata": {},
   "source": [
    "Reduction ratio among instances."
   ]
  },
  {
   "cell_type": "code",
   "execution_count": 14,
   "metadata": {},
   "outputs": [],
   "source": [
    "# Count instances with same reduction ratio\n",
    "ratio_frequency = df_reduction['RATIO'].value_counts().sort_index(ascending=False)\n",
    "\n",
    "# Cumulative data frame\n",
    "df_ratio_frequency = pd.DataFrame({'MODELS': ratio_frequency.values}).cumsum()\n",
    "df_ratio_frequency['RATIO'] = ratio_frequency.index\n",
    "\n",
    "# Add row '0'\n",
    "df_first_row = pd.DataFrame([{'MODELS': 1, 'RATIO': df_ratio_frequency['RATIO'][0]}])\n",
    "df_ratio_frequency = pd.concat([df_first_row, df_ratio_frequency])"
   ]
  },
  {
   "cell_type": "code",
   "execution_count": 15,
   "metadata": {},
   "outputs": [
    {
     "data": {
      "image/png": "[encoded data removed]",
      "text/plain": [
       "<Figure size 1080x360 with 1 Axes>"
      ]
     },
     "metadata": {
      "needs_background": "light"
     },
     "output_type": "display_data"
    }
   ],
   "source": [
    "# Draw instances reduction ratio\n",
    "df_ratio_frequency.plot.area(x='MODELS', color='orange', figsize=(15,5))\n",
    "plt.xlabel('Number of instances')\n",
    "plt.ylabel('Ratio (%)')\n",
    "plt.title(\"Instances Reduction Ratio\")\n",
    "plt.show()"
   ]
  },
  {
   "cell_type": "markdown",
   "metadata": {},
   "source": [
    "### Properties Processed in a Limited Time: With vs Without Reduction"
   ]
  },
  {
   "cell_type": "markdown",
   "metadata": {},
   "source": [
    "Comparaison of the number of processed properties in a limited time between with and without reduction."
   ]
  },
  {
   "cell_type": "code",
   "execution_count": 16,
   "metadata": {},
   "outputs": [],
   "source": [
    "def properties_processed_in_limited_time(reduction):\n",
    "    \"\"\" Plot the number of properties processed with a timelimit with or without reduction.\n",
    "    \"\"\"\n",
    "    df = df_properties[['TIME_{}_REDUCTION'.format(reduction)]].query('TIME_{}_REDUCTION == TIME_{}_REDUCTION'.format(reduction, reduction)).sort_values('TIME_{}_REDUCTION'.format(reduction)).reset_index(drop=True)\n",
    "\n",
    "    def time_query(x):\n",
    "        return df[['TIME_{}_REDUCTION'.format(reduction)]].query('TIME_{}_REDUCTION <= {}'.format(reduction, x)).shape[0]\n",
    "    \n",
    "    y_axis = np.arange(TIMEOUT + 1)\n",
    "    x_axis = [time_query(x) for x in y_axis]\n",
    "\n",
    "    if reduction == 'WITH':\n",
    "        color, label = 'blue', 'With reducion'\n",
    "    else:\n",
    "        color, label = 'red', 'Without reduction'\n",
    "    \n",
    "    plt.plot(x_axis, y_axis, color=color, label=label)"
   ]
  },
  {
   "cell_type": "code",
   "execution_count": 17,
   "metadata": {},
   "outputs": [
    {
     "data": {
      "image/png": "[encoded data removed]",
      "text/plain": [
       "<Figure size 1080x360 with 1 Axes>"
      ]
     },
     "metadata": {
      "needs_background": "light"
     },
     "output_type": "display_data"
    }
   ],
   "source": [
    "plt.figure(figsize=FIGSIZE)\n",
    "\n",
    "properties_processed_in_limited_time('WITH')\n",
    "properties_processed_in_limited_time('WITHOUT')\n",
    "\n",
    "plt.legend()\n",
    "plt.xlabel('Number of properties solved')\n",
    "plt.ylabel('Time limit (seconds)')\n",
    "plt.title(\"Number of Properties Processed with a Timelimit\")\n",
    "plt.show()"
   ]
  },
  {
   "cell_type": "markdown",
   "metadata": {},
   "source": [
    "### Properties Processed in a Limited Time: BMC vs IC3"
   ]
  },
  {
   "cell_type": "markdown",
   "metadata": {},
   "source": [
    "Comparaison of the number of processed properties in a limited time between BMC and IC3."
   ]
  },
  {
   "cell_type": "code",
   "execution_count": 18,
   "metadata": {},
   "outputs": [],
   "source": [
    "def properties_processed_limited_time_with_fixed_method(reduction, method):\n",
    "    \"\"\" Plot the number of properties processed with a timelimit using BMC or IC3, with or without reduction.\n",
    "    \"\"\"\n",
    "    df = df_properties.query('TIME_{}_REDUCTION == TIME_{}_REDUCTION and METHOD_{}_REDUCTION == \"{}\"'.format(reduction, reduction, reduction, method))\n",
    "    df = df[['TIME_{}_REDUCTION'.format(reduction)]].sort_values('TIME_{}_REDUCTION'.format(reduction)).reset_index(drop=True)\n",
    "\n",
    "    def time_query(x):\n",
    "        return df[['TIME_{}_REDUCTION'.format(reduction)]].query('TIME_{}_REDUCTION <= {}'.format(reduction, x)).shape[0]\n",
    "     \n",
    "    y_axis = np.arange(61)\n",
    "    x_axis = [time_query(x) for x in y_axis]\n",
    "\n",
    "    if reduction == 'WITH':\n",
    "        color = 'blue'\n",
    "    else:\n",
    "        color = 'red'\n",
    "        \n",
    "    if method == 'BMC':\n",
    "        linestyle = '-'\n",
    "    else:\n",
    "        linestyle = '--'\n",
    "    \n",
    "    label = '{} {} reduction'.format(method, reduction.lower())\n",
    "    \n",
    "    plt.plot(x_axis, y_axis, label=label, color=color, linestyle=linestyle)"
   ]
  },
  {
   "cell_type": "code",
   "execution_count": 19,
   "metadata": {},
   "outputs": [
    {
     "data": {
      "image/png": "[encoded data removed]",
      "text/plain": [
       "<Figure size 1080x360 with 1 Axes>"
      ]
     },
     "metadata": {
      "needs_background": "light"
     },
     "output_type": "display_data"
    }
   ],
   "source": [
    "plt.figure(figsize=FIGSIZE)\n",
    "\n",
    "properties_processed_limited_time_with_fixed_method('WITH', 'BMC')\n",
    "properties_processed_limited_time_with_fixed_method('WITHOUT', 'BMC')\n",
    "properties_processed_limited_time_with_fixed_method('WITH', 'IC3')\n",
    "properties_processed_limited_time_with_fixed_method('WITHOUT', 'IC3')\n",
    "\n",
    "plt.legend()\n",
    "plt.xlabel('Number of properties solved')\n",
    "plt.ylabel('Time limit (seconds)')\n",
    "plt.title(\"Number of Properties Processed with a Timelimit\")\n",
    "plt.show()"
   ]
  }
 ],
 "metadata": {
  "kernelspec": {
   "display_name": "Python 3",
   "language": "python",
   "name": "python3"
  },
  "language_info": {
   "codemirror_mode": {
    "name": "ipython",
    "version": 3
   },
   "file_extension": ".py",
   "mimetype": "text/x-python",
   "name": "python",
   "nbconvert_exporter": "python",
   "pygments_lexer": "ipython3",
   "version": "3.8.1"
  }
 },
 "nbformat": 4,
 "nbformat_minor": 4
}
